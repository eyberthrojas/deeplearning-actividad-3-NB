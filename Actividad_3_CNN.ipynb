{
  "nbformat": 4,
  "nbformat_minor": 0,
  "metadata": {
    "colab": {
      "provenance": []
    },
    "kernelspec": {
      "name": "python3",
      "display_name": "Python 3"
    },
    "language_info": {
      "name": "python"
    }
  },
  "cells": [
    {
      "cell_type": "markdown",
      "source": [
        "## Actividad 3: Entrenamiento de red neuronal convolucional (CNN)\n",
        "\n",
        "Las CNN son arquitecturas de redes neuronales muy utilizadas para el tratamiento de imagenes, son arquitecturas muy potentes y de grandes prestaciones en el machine learning para resolver problemas de aprendizaje supervisado.\n",
        "\n",
        "En el siguiente ejercicio entrenaremos un modelo que es capas de detectar si en una imagen hay un gato o no hay gato."
      ],
      "metadata": {
        "id": "RgClQ_eSxUgC"
      }
    },
    {
      "cell_type": "markdown",
      "source": [
        "# Clonar repositorio donde se encuentra el dataset"
      ],
      "metadata": {
        "id": "i3UpKJ5Eyi1-"
      }
    },
    {
      "cell_type": "code",
      "execution_count": null,
      "metadata": {
        "id": "s-Ctwk1HPjWE"
      },
      "outputs": [],
      "source": [
        "!git clone https://github.com/eyberthrojas/deeplearning-actividad-3.git"
      ]
    },
    {
      "cell_type": "code",
      "source": [
        "import pickle\n",
        "import numpy as np\n",
        "import tensorflow as tf\n",
        "\n",
        "from sklearn.model_selection import train_test_split\n",
        "from sklearn.metrics import classification_report\n",
        "\n",
        "from tensorflow.keras.models import Sequential\n",
        "from tensorflow.keras.layers import Dense, InputLayer, Conv2D, MaxPooling2D, Flatten\n",
        "\n",
        "import matplotlib.pyplot as plt "
      ],
      "metadata": {
        "id": "GTmPXrPVPsWs"
      },
      "execution_count": 58,
      "outputs": []
    },
    {
      "cell_type": "code",
      "source": [
        "File = open('deeplearning-actividad-3/data.pckl', 'rb')\n",
        "dat_X = pickle.load(File)\n",
        "dat_Y = pickle.load(File)\n",
        "File.close()\n",
        "del(File)"
      ],
      "metadata": {
        "id": "caltdDQRP-rw"
      },
      "execution_count": 4,
      "outputs": []
    },
    {
      "cell_type": "code",
      "source": [
        "print(f'Dimenciones de la matriz de Imagenes = {dat_X.shape}')\n",
        "print(f'Dimenciones de los Labels o Etiquetas = {dat_Y.shape}')"
      ],
      "metadata": {
        "id": "tNLnyUzAQn_U"
      },
      "execution_count": null,
      "outputs": []
    },
    {
      "cell_type": "markdown",
      "source": [
        "- dat_X es un tensor de 4 dimenciones, el cual tiene información de 259 imagenes de 64 pixeles por 64 pixeles y tres capas (RGB)\n",
        "- dat_Y es un tensor de una dimencion de 259 posiciones y contiene las etiquetas (labels) de las imagenes contenidas en dat_X, (1: Es gato, 0: No es gato)"
      ],
      "metadata": {
        "id": "BUrtkTzISJAG"
      }
    },
    {
      "cell_type": "code",
      "source": [
        "# veamos las imagenes\n",
        "index = 9   ### Se puede cambiar el indice (0-258)\n",
        "plt.figure(figsize=(3,3))\n",
        "plt.imshow(dat_X[index])\n",
        "if dat_Y[index, 0]:\n",
        "    print (\"Es gato\")\n",
        "else:\n",
        "    print (\"NO es gato\")"
      ],
      "metadata": {
        "id": "sIrZUOVyQpoT"
      },
      "execution_count": null,
      "outputs": []
    },
    {
      "cell_type": "markdown",
      "source": [
        "Division de datos de entrenamiento y test"
      ],
      "metadata": {
        "id": "F6VwpGZSUw2L"
      }
    },
    {
      "cell_type": "code",
      "source": [
        "X_train, X_test, Y_train, Y_test = train_test_split(dat_X, dat_Y, test_size=0.3, random_state=1, stratify=dat_Y) \n",
        "print('Train:{}, Test {}'.format(X_train.shape, X_test.shape))"
      ],
      "metadata": {
        "id": "ZmMNDSVzSrNS"
      },
      "execution_count": null,
      "outputs": []
    },
    {
      "cell_type": "code",
      "source": [
        "print(f'Numero de imagenes de gato para entrenamiento = {np.sum(Y_train)}')\n",
        "print(f'Numero de imagenes de gato para test = {np.sum(Y_test)}')"
      ],
      "metadata": {
        "id": "91YdcG8Crhvq"
      },
      "execution_count": null,
      "outputs": []
    },
    {
      "cell_type": "markdown",
      "source": [
        "Hyperparametros"
      ],
      "metadata": {
        "id": "w9GuSqDmU_mG"
      }
    },
    {
      "cell_type": "code",
      "source": [
        "learning_rate = 0.0001\n",
        "num_epochs = 20\n",
        "hidden_layer_size = 256    # Número de neuronas en capa oculta\n",
        "filters = [32, 128, 256]\n",
        "orders = [5, 3, 3]\n",
        "input_shape = X_train.shape[1:]\n",
        "n_class = 1\n",
        "print(f'Input Shape = {input_shape}')"
      ],
      "metadata": {
        "id": "IoqA1Y-sUPwc"
      },
      "execution_count": null,
      "outputs": []
    },
    {
      "cell_type": "markdown",
      "source": [
        "## Costruccion del modelo"
      ],
      "metadata": {
        "id": "oUoQRFkkVXiQ"
      }
    },
    {
      "cell_type": "code",
      "source": [
        "model = Sequential()\n",
        "model.add(InputLayer(input_shape))\n",
        "# Capas convolucionales, filter es el numero de imagenes de salida, order es el orden del kernel de la convolucion\n",
        "# padding same hace que las imagenes de salida sean del mismo tamano de la de entrada \n",
        "for filter, order in zip(filters, orders):\n",
        "  model.add(Conv2D(filter, order, padding='same', activation='relu'))\n",
        "  model.add(MaxPooling2D((2, 2))) # Reduce a la mitad las imagenes de salida\n",
        "model.add(Flatten())\n",
        "model.add(Dense(hidden_layer_size, activation='relu'))\n",
        "model.add(Dense(hidden_layer_size, activation='relu'))\n",
        "model.add(Dense(n_class, activation='sigmoid'))\n",
        "\n",
        "model.compile(\n",
        "    optimizer=tf.keras.optimizers.Adam(learning_rate=learning_rate),\n",
        "    loss=tf.keras.losses.BinaryCrossentropy(from_logits=False),\n",
        "    metrics=[tf.keras.metrics.BinaryAccuracy()]\n",
        ")\n"
      ],
      "metadata": {
        "id": "BgX7P14iVJee"
      },
      "execution_count": 47,
      "outputs": []
    },
    {
      "cell_type": "code",
      "source": [
        "model.summary()"
      ],
      "metadata": {
        "id": "H_nuzq6vuS7w"
      },
      "execution_count": null,
      "outputs": []
    },
    {
      "cell_type": "markdown",
      "source": [
        "## Entrenamiento"
      ],
      "metadata": {
        "id": "RwlsO0Blt1uj"
      }
    },
    {
      "cell_type": "code",
      "source": [
        "history = model.fit(x=X_train, y=Y_train, batch_size=32, epochs=num_epochs, validation_data=(X_test, Y_test), verbose=True)"
      ],
      "metadata": {
        "id": "iJ_6lUOjt0_J"
      },
      "execution_count": null,
      "outputs": []
    },
    {
      "cell_type": "code",
      "source": [
        "epochs_v = range(1,num_epochs+1)"
      ],
      "metadata": {
        "id": "u_wWVkjIuJTF"
      },
      "execution_count": 51,
      "outputs": []
    },
    {
      "cell_type": "code",
      "source": [
        "history.history.keys()"
      ],
      "metadata": {
        "id": "nWM3Rhwmz7cN"
      },
      "execution_count": null,
      "outputs": []
    },
    {
      "cell_type": "markdown",
      "source": [
        "## Perdida vs epochs"
      ],
      "metadata": {
        "id": "d_0yANTO0h3g"
      }
    },
    {
      "cell_type": "code",
      "source": [
        "plt.plot(epochs_v, history.history['loss'], epochs_v, history.history['val_loss'])\n",
        "#plt.legend(['train_loss', 'test_loss'])"
      ],
      "metadata": {
        "id": "OO5JPS4Ezevr"
      },
      "execution_count": null,
      "outputs": []
    },
    {
      "cell_type": "markdown",
      "source": [
        "## Accuracy vs epochs"
      ],
      "metadata": {
        "id": "_chLk7f_0m3K"
      }
    },
    {
      "cell_type": "code",
      "source": [
        "plt.plot(epochs_v, history.history['binary_accuracy'], epochs_v, history.history['val_binary_accuracy'])\n",
        "#plt.legend(['train_accuracy', 'test_accuracy'])"
      ],
      "metadata": {
        "id": "WJxG3q7sznP8"
      },
      "execution_count": null,
      "outputs": []
    },
    {
      "cell_type": "markdown",
      "source": [
        "## Predict con datos de test"
      ],
      "metadata": {
        "id": "bNJLPBez04Tm"
      }
    },
    {
      "cell_type": "code",
      "source": [
        "probs = model.predict(X_test)\n",
        "preds = np.greater(probs, 0.5)"
      ],
      "metadata": {
        "id": "lQUoUrYizyCh"
      },
      "execution_count": null,
      "outputs": []
    },
    {
      "cell_type": "code",
      "source": [
        "print(classification_report(Y_test, preds, zero_division=0))"
      ],
      "metadata": {
        "id": "VKAZhaXu1CRU"
      },
      "execution_count": null,
      "outputs": []
    },
    {
      "cell_type": "code",
      "source": [],
      "metadata": {
        "id": "wwjp7xmU1GM8"
      },
      "execution_count": null,
      "outputs": []
    }
  ]
}